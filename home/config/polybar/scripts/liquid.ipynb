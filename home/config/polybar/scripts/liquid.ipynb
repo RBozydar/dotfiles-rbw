{
 "cells": [
  {
   "cell_type": "code",
   "execution_count": 10,
   "metadata": {},
   "outputs": [
    {
     "name": "stdout",
     "output_type": "stream",
     "text": [
      "ASUS Strix GTX 1070 OC at i2c-1:0xffff:\n"
     ]
    },
    {
     "name": "stderr",
     "output_type": "stream",
     "text": [
      "some attributes cannot be read from corsair_psu kernel driver\n"
     ]
    },
    {
     "name": "stdout",
     "output_type": "stream",
     "text": [
      "Corsair RM650i at hid:/dev/hidraw4:\n",
      "Total power output: 98.0 W\n",
      "Corsair Hydro H100i v2 at usb1:9:\n"
     ]
    }
   ],
   "source": [
    "from liquidctl import find_liquidctl_devices\n",
    "from liquidctl.driver.corsair_hid_psu import CorsairHidPsuDriver\n",
    "\n",
    "first = True\n",
    "\n",
    "# find all connected and supported devices\n",
    "devices = find_liquidctl_devices()\n",
    "\n",
    "for dev in devices:\n",
    "    # connect to the device (here a context manager is used, but the\n",
    "    # connection can also be manually managed)\n",
    "    with dev.connect():\n",
    "        print(f'{dev.description} at {dev.bus}:{dev.address}:')\n",
    "\n",
    "        # get regular status information from the device\n",
    "        status = dev.get_status()\n",
    "\n",
    "        # print all data returned by get_status()\n",
    "        for key, value, unit in status:\n",
    "            if key == \"Total power output\":\n",
    "                print(f'{key}: {value} {unit}')\n",
    "            else:\n",
    "                pass"
   ]
  },
  {
   "cell_type": "code",
   "execution_count": 7,
   "metadata": {},
   "outputs": [],
   "source": [
    "for x in devices:\n",
    "    print(x)"
   ]
  },
  {
   "cell_type": "code",
   "execution_count": 37,
   "metadata": {},
   "outputs": [
    {
     "name": "stderr",
     "output_type": "stream",
     "text": [
      "some attributes cannot be read from corsair_psu kernel driver\n"
     ]
    }
   ],
   "source": [
    "from liquidctl.driver.corsair_hid_psu import CorsairHidPsuDriver\n",
    "import logging\n",
    "_LOGGER = logging.getLogger(\"logs\")\n",
    "_LOGGER.setLevel(50)\n",
    "for dev in CorsairHidPsuDriver.find_supported_devices():\n",
    "    # wattage = dev.get_status()[13][1]\n",
    "    # print('hello')\n",
    "    dev.get_status()\n",
    "# print(wattage)"
   ]
  },
  {
   "cell_type": "code",
   "execution_count": 29,
   "metadata": {},
   "outputs": [
    {
     "name": "stdout",
     "output_type": "stream",
     "text": [
      "110.0\n"
     ]
    }
   ],
   "source": [
    "print(wattage)"
   ]
  },
  {
   "cell_type": "code",
   "execution_count": null,
   "metadata": {},
   "outputs": [],
   "source": []
  }
 ],
 "metadata": {
  "kernelspec": {
   "display_name": "Python 3.9.12 ('base')",
   "language": "python",
   "name": "python3"
  },
  "language_info": {
   "codemirror_mode": {
    "name": "ipython",
    "version": 3
   },
   "file_extension": ".py",
   "mimetype": "text/x-python",
   "name": "python",
   "nbconvert_exporter": "python",
   "pygments_lexer": "ipython3",
   "version": "3.9.12"
  },
  "orig_nbformat": 4,
  "vscode": {
   "interpreter": {
    "hash": "ff50210647d3b3e24f9405ccbc55ff8cbe653d202aa465df81e33ad4a07ba15b"
   }
  }
 },
 "nbformat": 4,
 "nbformat_minor": 2
}
